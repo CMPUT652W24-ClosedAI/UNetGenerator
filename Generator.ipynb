{
 "cells": [
  {
   "cell_type": "code",
   "execution_count": 25,
   "id": "c1e7ce06-cbb2-4265-8c36-5b7333951878",
   "metadata": {},
   "outputs": [
    {
     "name": "stdout",
     "output_type": "stream",
     "text": [
      "Requirement already satisfied: torch in /opt/conda/lib/python3.11/site-packages (2.5.1)\n",
      "Requirement already satisfied: filelock in /opt/conda/lib/python3.11/site-packages (from torch) (3.16.1)\n",
      "Requirement already satisfied: typing-extensions>=4.8.0 in /opt/conda/lib/python3.11/site-packages (from torch) (4.9.0)\n",
      "Requirement already satisfied: networkx in /opt/conda/lib/python3.11/site-packages (from torch) (3.2.1)\n",
      "Requirement already satisfied: jinja2 in /opt/conda/lib/python3.11/site-packages (from torch) (3.1.2)\n",
      "Requirement already satisfied: fsspec in /opt/conda/lib/python3.11/site-packages (from torch) (2023.12.2)\n",
      "Requirement already satisfied: nvidia-cuda-nvrtc-cu12==12.4.127 in /opt/conda/lib/python3.11/site-packages (from torch) (12.4.127)\n",
      "Requirement already satisfied: nvidia-cuda-runtime-cu12==12.4.127 in /opt/conda/lib/python3.11/site-packages (from torch) (12.4.127)\n",
      "Requirement already satisfied: nvidia-cuda-cupti-cu12==12.4.127 in /opt/conda/lib/python3.11/site-packages (from torch) (12.4.127)\n",
      "Requirement already satisfied: nvidia-cudnn-cu12==9.1.0.70 in /opt/conda/lib/python3.11/site-packages (from torch) (9.1.0.70)\n",
      "Requirement already satisfied: nvidia-cublas-cu12==12.4.5.8 in /opt/conda/lib/python3.11/site-packages (from torch) (12.4.5.8)\n",
      "Requirement already satisfied: nvidia-cufft-cu12==11.2.1.3 in /opt/conda/lib/python3.11/site-packages (from torch) (11.2.1.3)\n",
      "Requirement already satisfied: nvidia-curand-cu12==10.3.5.147 in /opt/conda/lib/python3.11/site-packages (from torch) (10.3.5.147)\n",
      "Requirement already satisfied: nvidia-cusolver-cu12==11.6.1.9 in /opt/conda/lib/python3.11/site-packages (from torch) (11.6.1.9)\n",
      "Requirement already satisfied: nvidia-cusparse-cu12==12.3.1.170 in /opt/conda/lib/python3.11/site-packages (from torch) (12.3.1.170)\n",
      "Requirement already satisfied: nvidia-nccl-cu12==2.21.5 in /opt/conda/lib/python3.11/site-packages (from torch) (2.21.5)\n",
      "Requirement already satisfied: nvidia-nvtx-cu12==12.4.127 in /opt/conda/lib/python3.11/site-packages (from torch) (12.4.127)\n",
      "Requirement already satisfied: nvidia-nvjitlink-cu12==12.4.127 in /opt/conda/lib/python3.11/site-packages (from torch) (12.4.127)\n",
      "Requirement already satisfied: triton==3.1.0 in /opt/conda/lib/python3.11/site-packages (from torch) (3.1.0)\n",
      "Requirement already satisfied: sympy==1.13.1 in /opt/conda/lib/python3.11/site-packages (from torch) (1.13.1)\n",
      "Requirement already satisfied: mpmath<1.4,>=1.1.0 in /opt/conda/lib/python3.11/site-packages (from sympy==1.13.1->torch) (1.3.0)\n",
      "Requirement already satisfied: MarkupSafe>=2.0 in /opt/conda/lib/python3.11/site-packages (from jinja2->torch) (2.1.3)\n"
     ]
    }
   ],
   "source": [
    "!pip install torch"
   ]
  },
  {
   "cell_type": "code",
   "execution_count": 26,
   "id": "1082cb3c-ab05-4666-aad4-f362875f2b36",
   "metadata": {},
   "outputs": [],
   "source": [
    "import numpy as np\n",
    "import torch\n",
    "import torch.nn as nn "
   ]
  },
  {
   "cell_type": "code",
   "execution_count": 167,
   "id": "69806d63-e361-4887-8205-be0e937f6090",
   "metadata": {},
   "outputs": [],
   "source": [
    "class Unet(nn.Module):\n",
    "    def __init__(self):\n",
    "        super(Unet, self).__init__()\n",
    "\n",
    "        self.downsample = torch.nn.MaxPool2d(2)\n",
    "\n",
    "        self.block_1 = nn.Sequential(\n",
    "            nn.Conv2d(6, 64, 3, padding=\"same\"),\n",
    "            nn.ReLU(),\n",
    "            nn.Conv2d(64, 64, 3, padding=\"same\"),\n",
    "            nn.ReLU(),\n",
    "            nn.Conv2d(64, 64, 3, padding=\"same\"),\n",
    "            nn.ReLU()\n",
    "        )\n",
    "\n",
    "        self.block_2 = nn.Sequential(\n",
    "            nn.Conv2d(64, 128, 3, padding=\"same\"),\n",
    "            nn.ReLU(),\n",
    "            nn.Conv2d(128, 128, 3, padding=\"same\"),\n",
    "            nn.ReLU(),\n",
    "            nn.Conv2d(128, 128, 3, padding=\"same\"),\n",
    "            nn.ReLU()\n",
    "        )\n",
    "\n",
    "        self.block_3 = nn.Sequential(\n",
    "            nn.Conv2d(128, 256, 3, padding=\"same\"),\n",
    "            nn.ReLU(),\n",
    "            nn.Conv2d(256, 256, 3, padding=\"same\"),\n",
    "            nn.ReLU(),\n",
    "            nn.Conv2d(256, 256, 3, padding=\"same\"),\n",
    "            nn.ReLU()\n",
    "        )\n",
    "\n",
    "        self.upsample_1 = nn.ConvTranspose2d(256, 128, 2, stride=2)\n",
    "\n",
    "        self.up_block_1 = nn.Sequential(\n",
    "            nn.Conv2d(256, 128, 3, padding=\"same\"),\n",
    "            nn.ReLU(),\n",
    "            nn.Conv2d(128, 128, 3, padding=\"same\"),\n",
    "            nn.ReLU(),\n",
    "            nn.Conv2d(128, 128, 3, padding=\"same\"),\n",
    "            nn.ReLU()\n",
    "        )\n",
    "\n",
    "        self.upsample_2 = nn.ConvTranspose2d(128, 64, 2, stride=2)\n",
    "\n",
    "        self.up_block_2 = nn.Sequential(\n",
    "            nn.Conv2d(128, 64, 3, padding=\"same\"),\n",
    "            nn.ReLU(),\n",
    "            nn.Conv2d(64, 64, 3, padding=\"same\"),\n",
    "            nn.ReLU(),\n",
    "            nn.Conv2d(64, 64, 3, padding=\"same\"),\n",
    "            nn.ReLU()\n",
    "        )\n",
    "\n",
    "        self.output_layer = nn.Conv2d(64, 6, 1, padding=\"same\")\n",
    "\n",
    "\n",
    "    def forward(self, x):\n",
    "        h1 = self.block_1(x)\n",
    "        d1 = self.downsample(h1)\n",
    "        h2 = self.block_2(d1)\n",
    "        d2 = self.downsample(h2)\n",
    "        h3 = self.block_3(d2)\n",
    "\n",
    "        u1 = self.upsample_1(h3)\n",
    "        c1 = torch.cat( (h2, u1), dim=-3)\n",
    "        h4 = self.up_block_1(c1)\n",
    "        u2 = self.upsample_2(h4)\n",
    "        c2 = torch.cat( (h1, u2), dim=-3)\n",
    "        h5 = self.up_block_2(c2)\n",
    "        output = self.output_layer(h5)\n",
    "        return output\n",
    "\n",
    "        "
   ]
  },
  {
   "cell_type": "code",
   "execution_count": null,
   "id": "b0a18f6b-def4-49a2-88a7-4123647b8db9",
   "metadata": {},
   "outputs": [],
   "source": [
    "def sym_score(x):\n",
    "    x = torch.argmax(input, dim=-3)\n",
    "    reflected_x = torch.transpose(torch.flip(x, dims=[-1, -2]), -1, -2)\n",
    "    return torch.sum(x != reflected_x)"
   ]
  }
 ],
 "metadata": {
  "kernelspec": {
   "display_name": "Python 3 (ipykernel)",
   "language": "python",
   "name": "python3"
  },
  "language_info": {
   "codemirror_mode": {
    "name": "ipython",
    "version": 3
   },
   "file_extension": ".py",
   "mimetype": "text/x-python",
   "name": "python",
   "nbconvert_exporter": "python",
   "pygments_lexer": "ipython3",
   "version": "3.11.7"
  }
 },
 "nbformat": 4,
 "nbformat_minor": 5
}
