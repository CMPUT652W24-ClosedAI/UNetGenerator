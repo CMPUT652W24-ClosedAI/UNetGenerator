{
 "cells": [
  {
   "cell_type": "code",
   "execution_count": 1,
   "id": "c1e7ce06-cbb2-4265-8c36-5b7333951878",
   "metadata": {},
   "outputs": [
    {
     "name": "stdout",
     "output_type": "stream",
     "text": [
      "Requirement already satisfied: torch in /opt/conda/lib/python3.11/site-packages (2.5.1)\n",
      "Requirement already satisfied: filelock in /opt/conda/lib/python3.11/site-packages (from torch) (3.16.1)\n",
      "Requirement already satisfied: typing-extensions>=4.8.0 in /opt/conda/lib/python3.11/site-packages (from torch) (4.9.0)\n",
      "Requirement already satisfied: networkx in /opt/conda/lib/python3.11/site-packages (from torch) (3.2.1)\n",
      "Requirement already satisfied: jinja2 in /opt/conda/lib/python3.11/site-packages (from torch) (3.1.2)\n",
      "Requirement already satisfied: fsspec in /opt/conda/lib/python3.11/site-packages (from torch) (2023.12.2)\n",
      "Requirement already satisfied: nvidia-cuda-nvrtc-cu12==12.4.127 in /opt/conda/lib/python3.11/site-packages (from torch) (12.4.127)\n",
      "Requirement already satisfied: nvidia-cuda-runtime-cu12==12.4.127 in /opt/conda/lib/python3.11/site-packages (from torch) (12.4.127)\n",
      "Requirement already satisfied: nvidia-cuda-cupti-cu12==12.4.127 in /opt/conda/lib/python3.11/site-packages (from torch) (12.4.127)\n",
      "Requirement already satisfied: nvidia-cudnn-cu12==9.1.0.70 in /opt/conda/lib/python3.11/site-packages (from torch) (9.1.0.70)\n",
      "Requirement already satisfied: nvidia-cublas-cu12==12.4.5.8 in /opt/conda/lib/python3.11/site-packages (from torch) (12.4.5.8)\n",
      "Requirement already satisfied: nvidia-cufft-cu12==11.2.1.3 in /opt/conda/lib/python3.11/site-packages (from torch) (11.2.1.3)\n",
      "Requirement already satisfied: nvidia-curand-cu12==10.3.5.147 in /opt/conda/lib/python3.11/site-packages (from torch) (10.3.5.147)\n",
      "Requirement already satisfied: nvidia-cusolver-cu12==11.6.1.9 in /opt/conda/lib/python3.11/site-packages (from torch) (11.6.1.9)\n",
      "Requirement already satisfied: nvidia-cusparse-cu12==12.3.1.170 in /opt/conda/lib/python3.11/site-packages (from torch) (12.3.1.170)\n",
      "Requirement already satisfied: nvidia-nccl-cu12==2.21.5 in /opt/conda/lib/python3.11/site-packages (from torch) (2.21.5)\n",
      "Requirement already satisfied: nvidia-nvtx-cu12==12.4.127 in /opt/conda/lib/python3.11/site-packages (from torch) (12.4.127)\n",
      "Requirement already satisfied: nvidia-nvjitlink-cu12==12.4.127 in /opt/conda/lib/python3.11/site-packages (from torch) (12.4.127)\n",
      "Requirement already satisfied: triton==3.1.0 in /opt/conda/lib/python3.11/site-packages (from torch) (3.1.0)\n",
      "Requirement already satisfied: sympy==1.13.1 in /opt/conda/lib/python3.11/site-packages (from torch) (1.13.1)\n",
      "Requirement already satisfied: mpmath<1.4,>=1.1.0 in /opt/conda/lib/python3.11/site-packages (from sympy==1.13.1->torch) (1.3.0)\n",
      "Requirement already satisfied: MarkupSafe>=2.0 in /opt/conda/lib/python3.11/site-packages (from jinja2->torch) (2.1.3)\n"
     ]
    }
   ],
   "source": [
    "!pip install torch"
   ]
  },
  {
   "cell_type": "code",
   "execution_count": 2,
   "id": "1082cb3c-ab05-4666-aad4-f362875f2b36",
   "metadata": {},
   "outputs": [],
   "source": [
    "import numpy as np\n",
    "import torch\n",
    "import torch.nn as nn "
   ]
  },
  {
   "cell_type": "code",
   "execution_count": 3,
   "id": "a0a1af23-32cc-4ed8-a94d-a7d0832a1e41",
   "metadata": {},
   "outputs": [],
   "source": [
    "from collections import namedtuple, deque\n",
    "from itertools import count\n",
    "import random\n",
    "from tqdm import tqdm"
   ]
  },
  {
   "cell_type": "code",
   "execution_count": 4,
   "id": "69806d63-e361-4887-8205-be0e937f6090",
   "metadata": {},
   "outputs": [],
   "source": [
    "class Unet(nn.Module):\n",
    "    def __init__(self):\n",
    "        super(Unet, self).__init__()\n",
    "\n",
    "        self.downsample = torch.nn.MaxPool2d(2)\n",
    "\n",
    "        self.block_1 = nn.Sequential(\n",
    "            nn.Conv2d(6, 64, 3, padding=\"same\"),\n",
    "            nn.ReLU(),\n",
    "            nn.Conv2d(64, 64, 3, padding=\"same\"),\n",
    "            nn.ReLU(),\n",
    "            nn.Conv2d(64, 64, 3, padding=\"same\"),\n",
    "            nn.ReLU()\n",
    "        )\n",
    "\n",
    "        self.block_2 = nn.Sequential(\n",
    "            nn.Conv2d(64, 128, 3, padding=\"same\"),\n",
    "            nn.ReLU(),\n",
    "            nn.Conv2d(128, 128, 3, padding=\"same\"),\n",
    "            nn.ReLU(),\n",
    "            nn.Conv2d(128, 128, 3, padding=\"same\"),\n",
    "            nn.ReLU()\n",
    "        )\n",
    "\n",
    "        self.block_3 = nn.Sequential(\n",
    "            nn.Conv2d(128, 256, 3, padding=\"same\"),\n",
    "            nn.ReLU(),\n",
    "            nn.Conv2d(256, 256, 3, padding=\"same\"),\n",
    "            nn.ReLU(),\n",
    "            nn.Conv2d(256, 256, 3, padding=\"same\"),\n",
    "            nn.ReLU()\n",
    "        )\n",
    "\n",
    "        self.upsample_1 = nn.ConvTranspose2d(256, 128, 2, stride=2)\n",
    "\n",
    "        self.up_block_1 = nn.Sequential(\n",
    "            nn.Conv2d(256, 128, 3, padding=\"same\"),\n",
    "            nn.ReLU(),\n",
    "            nn.Conv2d(128, 128, 3, padding=\"same\"),\n",
    "            nn.ReLU(),\n",
    "            nn.Conv2d(128, 128, 3, padding=\"same\"),\n",
    "            nn.ReLU()\n",
    "        )\n",
    "\n",
    "        self.upsample_2 = nn.ConvTranspose2d(128, 64, 2, stride=2)\n",
    "\n",
    "        self.up_block_2 = nn.Sequential(\n",
    "            nn.Conv2d(128, 64, 3, padding=\"same\"),\n",
    "            nn.ReLU(),\n",
    "            nn.Conv2d(64, 64, 3, padding=\"same\"),\n",
    "            nn.ReLU(),\n",
    "            nn.Conv2d(64, 64, 3, padding=\"same\"),\n",
    "            nn.ReLU()\n",
    "        )\n",
    "\n",
    "        self.output_layer = nn.Conv2d(64, 6, 1, padding=\"same\")\n",
    "\n",
    "\n",
    "    def forward(self, x):\n",
    "        h1 = self.block_1(x)\n",
    "        d1 = self.downsample(h1)\n",
    "        h2 = self.block_2(d1)\n",
    "        d2 = self.downsample(h2)\n",
    "        h3 = self.block_3(d2)\n",
    "\n",
    "        u1 = self.upsample_1(h3)\n",
    "        c1 = torch.cat( (h2, u1), dim=-3)\n",
    "        h4 = self.up_block_1(c1)\n",
    "        u2 = self.upsample_2(h4)\n",
    "        c2 = torch.cat( (h1, u2), dim=-3)\n",
    "        h5 = self.up_block_2(c2)\n",
    "        output = self.output_layer(h5)\n",
    "        return output\n",
    "\n",
    "        "
   ]
  },
  {
   "cell_type": "code",
   "execution_count": 5,
   "id": "b0a18f6b-def4-49a2-88a7-4123647b8db9",
   "metadata": {},
   "outputs": [],
   "source": [
    "def sym_score(x):\n",
    "    x = torch.argmax(x, dim=-3)\n",
    "    reflected_x = torch.transpose(torch.flip(x, dims=[-1, -2]), -1, -2)\n",
    "    return torch.sum(x != reflected_x)"
   ]
  },
  {
   "cell_type": "code",
   "execution_count": 6,
   "id": "45c6873f-4fe3-49e0-86b5-7ba4cefb9cf1",
   "metadata": {},
   "outputs": [],
   "source": [
    "Transition = namedtuple('Transition',\n",
    "                        ('state', 'action', 'next_state', 'reward', 'terminal'))\n"
   ]
  },
  {
   "cell_type": "code",
   "execution_count": 7,
   "id": "05000654-7534-4c8a-98b4-762d07e10ef1",
   "metadata": {},
   "outputs": [],
   "source": [
    "class Memory_Buffer():\n",
    "    def __init__(self, capacity):\n",
    "        self.memory = deque([], maxlen=capacity)\n",
    "\n",
    "    def push(self, *args):\n",
    "        \"\"\"Save a transition\"\"\"\n",
    "        self.memory.append(Transition(*args))\n",
    "\n",
    "    def sample(self, batch_size):\n",
    "        return random.sample(self.memory, batch_size)\n",
    "\n",
    "    def __len__(self):\n",
    "        return len(self.memory)"
   ]
  },
  {
   "cell_type": "code",
   "execution_count": 8,
   "id": "282ca19e-82d2-4d3c-9857-fe5d5078acf1",
   "metadata": {},
   "outputs": [],
   "source": [
    "policy_net = Unet()\n",
    "target_net = Unet()\n",
    "target_net.load_state_dict(policy_net.state_dict())\n",
    "replay_buffer = Memory_Buffer(10_000)\n",
    "optimizer = torch.optim.Adam(policy_net.parameters())\n",
    "loss_function = nn.MSELoss()"
   ]
  },
  {
   "cell_type": "code",
   "execution_count": 9,
   "id": "1d03b941-5a68-4e11-9594-1b0c301cca8e",
   "metadata": {},
   "outputs": [],
   "source": [
    "epsilon = 1.0\n",
    "tau = 0.005"
   ]
  },
  {
   "cell_type": "code",
   "execution_count": 10,
   "id": "4b6f6842-5c26-4e0f-a291-6e6d01489e05",
   "metadata": {},
   "outputs": [
    {
     "name": "stderr",
     "output_type": "stream",
     "text": [
      "  0%|          | 0/100000 [00:00<?, ?it/s]/tmp/ipykernel_23585/3440431872.py:23: UserWarning: To copy construct from a tensor, it is recommended to use sourceTensor.clone().detach() or sourceTensor.clone().detach().requires_grad_(True), rather than torch.tensor(sourceTensor).\n",
      "  reward = torch.tensor(sym_score(state) - sym_score(old_state))\n",
      "  0%|          | 15/100000 [00:00<23:14, 71.68it/s]\n"
     ]
    },
    {
     "ename": "NameError",
     "evalue": "name 'TAU' is not defined",
     "output_type": "error",
     "traceback": [
      "\u001b[0;31m---------------------------------------------------------------------------\u001b[0m",
      "\u001b[0;31mNameError\u001b[0m                                 Traceback (most recent call last)",
      "Cell \u001b[0;32mIn[10], line 61\u001b[0m\n\u001b[1;32m     59\u001b[0m policy_net_state_dict \u001b[38;5;241m=\u001b[39m policy_net\u001b[38;5;241m.\u001b[39mstate_dict()\n\u001b[1;32m     60\u001b[0m \u001b[38;5;28;01mfor\u001b[39;00m key \u001b[38;5;129;01min\u001b[39;00m policy_net_state_dict:\n\u001b[0;32m---> 61\u001b[0m     target_net_state_dict[key] \u001b[38;5;241m=\u001b[39m policy_net_state_dict[key]\u001b[38;5;241m*\u001b[39m\u001b[43mTAU\u001b[49m \u001b[38;5;241m+\u001b[39m target_net_state_dict[key]\u001b[38;5;241m*\u001b[39m(\u001b[38;5;241m1\u001b[39m\u001b[38;5;241m-\u001b[39mTAU)\n\u001b[1;32m     62\u001b[0m target_net\u001b[38;5;241m.\u001b[39mload_state_dict(target_net_state_dict)\n",
      "\u001b[0;31mNameError\u001b[0m: name 'TAU' is not defined"
     ]
    }
   ],
   "source": [
    "for episode in tqdm(range(100_000)):\n",
    "    epsilon = max(epsilon - 1/100_000, 0.05)\n",
    "    blank_planes = torch.zeros(5, 16, 16)\n",
    "    empty_plane = torch.ones(1, 16, 16)\n",
    "    state = torch.cat((empty_plane, blank_planes), dim=0)\n",
    "    for step in range(64):\n",
    "        if np.random.random() > epsilon:\n",
    "            q_values = policy_net(state)\n",
    "            # mask q_values\n",
    "            q_values = q_values * (1 - state)\n",
    "            action = torch.tensor(torch.unravel_index(torch.argmax(q_values), q_values.shape))\n",
    "        else:\n",
    "            x = np.random.randint(16)\n",
    "            y = np.random.randint(16)\n",
    "            plane = np.random.randint(5)\n",
    "            if state[plane, x, y] == 1:\n",
    "                plane = 5\n",
    "            action = torch.tensor([torch.tensor(plane), torch.tensor(x), torch.tensor(y)])\n",
    "        old_state = state.clone()\n",
    "        state[:, action[1], action[2]] = 0\n",
    "        state[action[0], action[1], action[2]] = 1\n",
    "\n",
    "        reward = torch.tensor(sym_score(state) - sym_score(old_state))\n",
    "\n",
    "        if step == 63:\n",
    "            terminal = torch.tensor(1)\n",
    "        else:\n",
    "            terminal = torch.tensor(0)\n",
    "        replay_buffer.push(old_state, action, state, reward, terminal)\n",
    "\n",
    "        if step % 4 == 0 and len(replay_buffer) > 1_000:\n",
    "            transitions = replay_buffer.sample(16)\n",
    "            batch = Transition(*zip(*transitions))\n",
    "\n",
    "            state_batch = torch.stack(batch.state)\n",
    "            action_batch = torch.stack(batch.action)\n",
    "            reward_batch = torch.stack(batch.reward)\n",
    "            next_state_batch = torch.stack(batch.next_state)\n",
    "            terminal_batch = torch.stack(batch.terminal)\n",
    "\n",
    "            # compute targets\n",
    "            with torch.no_grad():\n",
    "                next_q = target_net(next_state_batch) * (1- next_state_batch)\n",
    "                next_q_maxes = torch.max(next_q.view(16, -1), dim=1)[0]\n",
    "                target = reward_batch + (next_q_maxes * (1 - terminal_batch))\n",
    "                \n",
    "            # compute TD error\n",
    "            predicted_q_values = policy_net(state_batch)[torch.arange(16), action_batch[:, 0], action_batch[:, 1], action_batch[:, 2]]\n",
    "            loss = loss_function(predicted_q_values, target)\n",
    "\n",
    "            # update policy network\n",
    "            optimizer.zero_grad()\n",
    "            loss.backward()\n",
    "            torch.nn.utils.clip_grad_value_(policy_net.parameters(), 100)\n",
    "            optimizer.step()\n",
    "\n",
    "            # update target network\n",
    "            target_net_state_dict = target_net.state_dict()\n",
    "            policy_net_state_dict = policy_net.state_dict()\n",
    "            for key in policy_net_state_dict:\n",
    "                target_net_state_dict[key] = policy_net_state_dict[key]*tau + target_net_state_dict[key]*(1-tau)\n",
    "            target_net.load_state_dict(target_net_state_dict)"
   ]
  },
  {
   "cell_type": "code",
   "execution_count": null,
   "id": "b331896e-494a-4eaf-8050-19a3f9fc1636",
   "metadata": {},
   "outputs": [],
   "source": []
  },
  {
   "cell_type": "code",
   "execution_count": null,
   "id": "731528a4-ed2b-4227-a756-ab4c277144f7",
   "metadata": {},
   "outputs": [],
   "source": []
  }
 ],
 "metadata": {
  "kernelspec": {
   "display_name": "Python 3 (ipykernel)",
   "language": "python",
   "name": "python3"
  },
  "language_info": {
   "codemirror_mode": {
    "name": "ipython",
    "version": 3
   },
   "file_extension": ".py",
   "mimetype": "text/x-python",
   "name": "python",
   "nbconvert_exporter": "python",
   "pygments_lexer": "ipython3",
   "version": "3.11.7"
  }
 },
 "nbformat": 4,
 "nbformat_minor": 5
}
